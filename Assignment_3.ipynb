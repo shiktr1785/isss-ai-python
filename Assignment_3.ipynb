{
  "nbformat": 4,
  "nbformat_minor": 0,
  "metadata": {
    "colab": {
      "provenance": [],
      "toc_visible": true,
      "authorship_tag": "ABX9TyNap7D+RRhJeMXGB+NmYiHY",
      "include_colab_link": true
    },
    "kernelspec": {
      "name": "python3",
      "display_name": "Python 3"
    },
    "language_info": {
      "name": "python"
    }
  },
  "cells": [
    {
      "cell_type": "markdown",
      "metadata": {
        "id": "view-in-github",
        "colab_type": "text"
      },
      "source": [
        "<a href=\"https://colab.research.google.com/github/shiktr1785/isss-ai-python/blob/main/Assignment_3.ipynb\" target=\"_parent\"><img src=\"https://colab.research.google.com/assets/colab-badge.svg\" alt=\"Open In Colab\"/></a>"
      ]
    },
    {
      "cell_type": "markdown",
      "source": [
        "# Assignment 3: Predicting Health Status using Markov Model\n",
        "### Shikhar Mani Tripathi\n",
        "\n",
        "\n"
      ],
      "metadata": {
        "id": "rC-Ncm3Sy2Cs"
      }
    },
    {
      "cell_type": "code",
      "execution_count": 16,
      "metadata": {
        "id": "fxmaZq2PytED"
      },
      "outputs": [],
      "source": [
        "# @title Library Import\n",
        "\n",
        "import random"
      ]
    },
    {
      "cell_type": "markdown",
      "source": [
        "## Task 1: States & Transition Matrix"
      ],
      "metadata": {
        "id": "M6D_PkAJ9alW"
      }
    },
    {
      "cell_type": "code",
      "source": [
        "# @title State Initilization\n",
        "states = ['Healthy',\n",
        "          'Mild Symptoms',\n",
        "          'Severe Symptoms']"
      ],
      "metadata": {
        "id": "NS-ZNF1sGvod"
      },
      "execution_count": 2,
      "outputs": []
    },
    {
      "cell_type": "code",
      "source": [
        "# @title Transition Matrix\n",
        "A = [[0.7, 0.2, 0.1],   # From Healthy\n",
        "     [0.3, 0.4, 0.3],   # From Mild Symptoms\n",
        "     [0.2, 0.3, 0.5]]   # From Severe Symptoms"
      ],
      "metadata": {
        "id": "_y3jQ8rPXmcL"
      },
      "execution_count": 3,
      "outputs": []
    },
    {
      "source": [
        "# @title State Transition\n",
        "\n",
        "def next_state(current_state):\n",
        "\n",
        "  # Get index of current state\n",
        "  state_index = states.index(current_state)\n",
        "\n",
        "  # Choose next state based on transition probabilites\n",
        "  next_state = random.choices(states, A[state_index])[0]\n",
        "  return next_state"
      ],
      "cell_type": "code",
      "metadata": {
        "id": "vkcJw3Ue9nou"
      },
      "execution_count": 6,
      "outputs": []
    },
    {
      "cell_type": "code",
      "source": [
        "# @title Debugging: Function to check if the probabiliites are working\n",
        "\n",
        "def check_transition_probabilities(initial_state, num_simulations = 1000):\n",
        "\n",
        "  state_counts = {'Healthy': 0, 'Mild Symptoms': 0, 'Severe Symptoms': 0}\n",
        "\n",
        "  for _ in range(num_simulations):\n",
        "    next_s = next_state(initial_state)\n",
        "    state_counts[next_s] += 1\n",
        "\n",
        "  # Calculate observed probability\n",
        "  observed_probabilities = {state: count / num_simulations for state, count in state_counts.items()}\n",
        "\n",
        "  print(f\"Observed Probabilities after {num_simulations} transitions from {initial_state}: \")\n",
        "\n",
        "  state_index = states.index(initial_state)\n",
        "\n",
        "\n",
        "check_transition_probabilities('Healthy', 10000)\n",
        "check_transition_probabilities('Mild Symptoms', 10000)\n",
        "check_transition_probabilities('Severe Symptoms', 10000)\n"
      ],
      "metadata": {
        "colab": {
          "base_uri": "https://localhost:8080/"
        },
        "id": "JN5LIfzYUBOb",
        "outputId": "8fa135aa-88e1-4680-c32d-b4130683ec9b"
      },
      "execution_count": 7,
      "outputs": [
        {
          "output_type": "stream",
          "name": "stdout",
          "text": [
            "Observed Probabilities after 10000 transitions from Healthy: \n",
            "Observed Probabilities after 10000 transitions from Mild Symptoms: \n",
            "Observed Probabilities after 10000 transitions from Severe Symptoms: \n"
          ]
        }
      ]
    },
    {
      "cell_type": "code",
      "source": [
        "# @title Simulation Function\n",
        "\n",
        "def simulate_health_status(initial_state, days = 10):\n",
        "  state = initial_state\n",
        "  sequence = [state]\n",
        "\n",
        "  for day in range(1, days):\n",
        "    state = next_state(state)\n",
        "    sequence.append(state)\n",
        "\n",
        "  print(f\"Simulation completed with final state: {state}\")\n",
        "\n",
        "  return sequence\n",
        "\n",
        "result = simulate_health_status('Mild Symptoms', 10)\n",
        "print(result)"
      ],
      "metadata": {
        "colab": {
          "base_uri": "https://localhost:8080/"
        },
        "id": "Y-V4u9I0Y_tO",
        "outputId": "488f79ab-8c8f-4254-e70d-a9ec6107f2e6"
      },
      "execution_count": 8,
      "outputs": [
        {
          "output_type": "stream",
          "name": "stdout",
          "text": [
            "Simulation completed with final state: Severe Symptoms\n",
            "['Mild Symptoms', 'Severe Symptoms', 'Mild Symptoms', 'Mild Symptoms', 'Mild Symptoms', 'Mild Symptoms', 'Mild Symptoms', 'Mild Symptoms', 'Healthy', 'Severe Symptoms']\n"
          ]
        }
      ]
    },
    {
      "cell_type": "code",
      "source": [
        "# @title Probability Calculation\n",
        "\n",
        "def calculate_probability(sequence):\n",
        "\n",
        "  # Initilize Probability\n",
        "  prob = 1.0\n",
        "\n",
        "  for i in range(len(sequence) - 1):\n",
        "    current_state = sequence[i]\n",
        "    next_state = sequence[i + 1]\n",
        "\n",
        "    # Indices of current state and next state\n",
        "    current_index = states.index(current_state)\n",
        "    next_index = states.index(next_state)\n",
        "\n",
        "    # Multiply the transition probability\n",
        "    prob *= A[current_index][next_index]\n",
        "\n",
        "  return prob"
      ],
      "metadata": {
        "id": "A8MmcXcgOYr6"
      },
      "execution_count": 9,
      "outputs": []
    },
    {
      "cell_type": "code",
      "source": [
        "# @title Debugging: Calculate Probability Function\n",
        "\n",
        "sequence = simulate_health_status('Mild Symptoms', 10)\n",
        "probability = calculate_probability(sequence)\n",
        "print(f\"Probability of the sequence: {probability}\")\n"
      ],
      "metadata": {
        "colab": {
          "base_uri": "https://localhost:8080/"
        },
        "id": "4BzYLplNdXxG",
        "outputId": "b09437ea-0b2a-42a1-8c1e-6482e05b91dc"
      },
      "execution_count": 10,
      "outputs": [
        {
          "output_type": "stream",
          "name": "stdout",
          "text": [
            "Simulation completed with final state: Healthy\n",
            "Probability of the sequence: 0.0005268480000000001\n"
          ]
        }
      ]
    },
    {
      "cell_type": "code",
      "source": [
        "# @title Generate Sequence\n",
        "\n",
        "def generate_sequences(states, days):\n",
        "\n",
        "  # Base case\n",
        "  if days == 1:\n",
        "    return [[state] for state in states]\n",
        "\n",
        "  # Recursive case: length 'days - 1'\n",
        "  smaller_sequences = generate_sequences(states, days - 1)\n",
        "  sequences = []\n",
        "\n",
        "  # State append\n",
        "  for seq in smaller_sequences:\n",
        "    for state in states:\n",
        "      sequences.append(seq + [state])\n",
        "\n",
        "  return sequences"
      ],
      "metadata": {
        "id": "AmJCLj60UYdW"
      },
      "execution_count": 11,
      "outputs": []
    },
    {
      "cell_type": "code",
      "source": [
        "# @title Exhaustive Search Algorithm\n",
        "\n",
        "def exhaustive_search(days = 10):\n",
        "\n",
        "  # Generate all possible sequence\n",
        "  all_sequences = generate_sequences(states, days)\n",
        "\n",
        "  # Debugging Print: If all_sequenses is correct\n",
        "  print(f\"Generated {len(all_sequences)} sequences\")\n",
        "\n",
        "  # Check if sequences are being generated correctly\n",
        "  if all_sequences is None:\n",
        "    raise ValueError(\"No sequences generated. Please check the generate_sequences function\")\n",
        "\n",
        "  # Probability calculation for each sequences\n",
        "  probabilites = {tuple(seq): calculate_probability(seq) for seq in all_sequences}\n",
        "\n",
        "  # Sequence with highest probability\n",
        "  most_probable_sequence = max(probabilites, key = probabilites.get)\n",
        "\n",
        "  return most_probable_sequence, probabilites[most_probable_sequence]"
      ],
      "metadata": {
        "id": "Zb7QpPA0Qa0L"
      },
      "execution_count": 12,
      "outputs": []
    },
    {
      "cell_type": "markdown",
      "source": [
        "## Task 2: Simulate Health Status for 10 Days"
      ],
      "metadata": {
        "id": "EN8dbPY49HKM"
      }
    },
    {
      "cell_type": "code",
      "source": [
        "sequence_10_days = simulate_health_status('Healthy', 10)\n",
        "print(\"Sequence of states after 10 days:\", sequence_10_days)"
      ],
      "metadata": {
        "colab": {
          "base_uri": "https://localhost:8080/"
        },
        "id": "hl06_VXpQvKp",
        "outputId": "dd01bff6-9c29-491a-d301-f15a1d6ac2b4"
      },
      "execution_count": 13,
      "outputs": [
        {
          "output_type": "stream",
          "name": "stdout",
          "text": [
            "Simulation completed with final state: Healthy\n",
            "Sequence of states after 10 days: ['Healthy', 'Healthy', 'Mild Symptoms', 'Severe Symptoms', 'Severe Symptoms', 'Healthy', 'Healthy', 'Healthy', 'Mild Symptoms', 'Healthy']\n"
          ]
        }
      ]
    },
    {
      "cell_type": "markdown",
      "source": [
        "## Task 3: Probability of the specific sequences"
      ],
      "metadata": {
        "id": "dZmXJB029ojS"
      }
    },
    {
      "cell_type": "code",
      "source": [
        "\n",
        "specific_sequences = [ 'Healthy', 'Mild Symptoms', 'Severe Symptoms', 'Healthy', 'Mild Symptoms']\n",
        "specific_sequence_probability = calculate_probability(specific_sequences)\n",
        "print(f\"Probability of the specific sequence {specific_sequences} : {specific_sequence_probability}\")"
      ],
      "metadata": {
        "colab": {
          "base_uri": "https://localhost:8080/"
        },
        "id": "749dgQAkZumA",
        "outputId": "51c04b5f-f1e3-493e-8238-108f080e50f0"
      },
      "execution_count": 14,
      "outputs": [
        {
          "output_type": "stream",
          "name": "stdout",
          "text": [
            "Probability of the specific sequence ['Healthy', 'Mild Symptoms', 'Severe Symptoms', 'Healthy', 'Mild Symptoms'] : 0.0024000000000000002\n"
          ]
        }
      ]
    },
    {
      "cell_type": "markdown",
      "source": [
        "## Task 4: Exhaustive search for the most likely sequence"
      ],
      "metadata": {
        "id": "kIBWn6Sd9wg1"
      }
    },
    {
      "cell_type": "code",
      "source": [
        "most_probable_sequence, probability =exhaustive_search(10)\n",
        "print(f\"Most probable sequence: {most_probable_sequence}\")\n",
        "print(f\"Probability of the most probable sequence: {probability}\")"
      ],
      "metadata": {
        "colab": {
          "base_uri": "https://localhost:8080/"
        },
        "id": "GCG3qaNSbBTw",
        "outputId": "93308ad8-a669-4def-98b6-2ca6c0a49bde",
        "collapsed": true
      },
      "execution_count": 15,
      "outputs": [
        {
          "output_type": "stream",
          "name": "stdout",
          "text": [
            "Generated 59049 sequences\n",
            "Most probable sequence: ('Healthy', 'Healthy', 'Healthy', 'Healthy', 'Healthy', 'Healthy', 'Healthy', 'Healthy', 'Healthy', 'Healthy')\n",
            "Probability of the most probable sequence: 0.04035360699999998\n"
          ]
        }
      ]
    },
    {
      "cell_type": "code",
      "source": [],
      "metadata": {
        "id": "cS_NH2nSbhkm"
      },
      "execution_count": 15,
      "outputs": []
    }
  ]
}