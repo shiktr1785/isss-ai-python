{
  "nbformat": 4,
  "nbformat_minor": 0,
  "metadata": {
    "colab": {
      "provenance": [],
      "authorship_tag": "ABX9TyN78naiUPgpTnhGF9ohJDqB",
      "include_colab_link": true
    },
    "kernelspec": {
      "name": "python3",
      "display_name": "Python 3"
    },
    "language_info": {
      "name": "python"
    }
  },
  "cells": [
    {
      "cell_type": "markdown",
      "metadata": {
        "id": "view-in-github",
        "colab_type": "text"
      },
      "source": [
        "<a href=\"https://colab.research.google.com/github/shiktr1785/isss-ai-python/blob/main/Assignment_3.ipynb\" target=\"_parent\"><img src=\"https://colab.research.google.com/assets/colab-badge.svg\" alt=\"Open In Colab\"/></a>"
      ]
    },
    {
      "cell_type": "markdown",
      "source": [
        "# Assignment 3: Predicting Health Status using Markov Model\n",
        "### Shikhar Mani Tripathi\n",
        "\n",
        "\n"
      ],
      "metadata": {
        "id": "rC-Ncm3Sy2Cs"
      }
    },
    {
      "cell_type": "code",
      "execution_count": 1,
      "metadata": {
        "id": "fxmaZq2PytED"
      },
      "outputs": [],
      "source": [
        "import random"
      ]
    },
    {
      "cell_type": "code",
      "source": [
        "# @title Task 1: States\n",
        "states = ['Healthy', 'Mild Symptoms', 'Severe Symptoms']"
      ],
      "metadata": {
        "id": "NS-ZNF1sGvod"
      },
      "execution_count": 2,
      "outputs": []
    },
    {
      "cell_type": "code",
      "source": [
        "# @title Transition Matrix\n",
        "A = [[0.7, 0.2, 0.1],   # From Healthy\n",
        "     [0.3, 0.4, 0.3],   # From Mild Symptoms\n",
        "     [0.2, 0.3, 0.5]]   # From Severe Symptoms"
      ],
      "metadata": {
        "id": "_y3jQ8rPXmcL"
      },
      "execution_count": 3,
      "outputs": []
    },
    {
      "cell_type": "code",
      "source": [
        "A[2]"
      ],
      "metadata": {
        "colab": {
          "base_uri": "https://localhost:8080/"
        },
        "id": "jOZ0PIHaGCsQ",
        "outputId": "4d0270a4-1613-4005-a211-98417f78772b"
      },
      "execution_count": 4,
      "outputs": [
        {
          "output_type": "execute_result",
          "data": {
            "text/plain": [
              "[0.2, 0.3, 0.5]"
            ]
          },
          "metadata": {},
          "execution_count": 4
        }
      ]
    },
    {
      "cell_type": "code",
      "source": [
        "states"
      ],
      "metadata": {
        "colab": {
          "base_uri": "https://localhost:8080/"
        },
        "id": "WD5ybmIeGEXs",
        "outputId": "436296f4-90bd-4842-892d-ec6a504fc4d6"
      },
      "execution_count": 5,
      "outputs": [
        {
          "output_type": "execute_result",
          "data": {
            "text/plain": [
              "['Healthy', 'Mild Symptoms', 'Severe Symptoms']"
            ]
          },
          "metadata": {},
          "execution_count": 5
        }
      ]
    },
    {
      "cell_type": "code",
      "source": [
        "# @title State Transition\n",
        "\n",
        "def next_state(current_state):\n",
        "\n",
        "  # Get index of current state\n",
        "  state_index = states.index(current_state)\n",
        "\n",
        "  # Choose next state based on transition probabilites\n",
        "  next_state = random.choices(states, A[state_index])[0]\n",
        "  return next_state"
      ],
      "metadata": {
        "id": "Ihe5fNpHL7Un"
      },
      "execution_count": 6,
      "outputs": []
    },
    {
      "cell_type": "code",
      "source": [
        "# @title Simulation Function\n",
        "\n",
        "def simulate_health_status(initial_state, days = 10):\n",
        "  current_state = initial_state\n",
        "  sequence = [current_state]\n",
        "\n",
        "  for _ in range(days - 1):\n",
        "    current_state = next_state(current_state)\n",
        "    sequence.append(current_state)\n",
        "\n",
        "  return sequence"
      ],
      "metadata": {
        "id": "Y-V4u9I0Y_tO"
      },
      "execution_count": 7,
      "outputs": []
    },
    {
      "cell_type": "code",
      "source": [
        "# @title Probability Calculation\n",
        "\n",
        "def calculate_probability(sequence):\n",
        "\n",
        "  # Initilize Probability\n",
        "  prob = 1.0\n",
        "\n",
        "  for i in range(len(sequence) - 1):\n",
        "    current_state = sequence[i]\n",
        "    next_state = sequence[i + 1]\n",
        "\n",
        "    # Indices of current state and next state\n",
        "    current_index = states.index(current_state)\n",
        "    next_index = states.index(next_state)\n",
        "\n",
        "    # Multiply the transition probability\n",
        "    prob *= A[current_index][next_index]\n",
        "\n",
        "  return prob"
      ],
      "metadata": {
        "id": "A8MmcXcgOYr6"
      },
      "execution_count": 8,
      "outputs": []
    },
    {
      "cell_type": "code",
      "source": [
        "# @title Generate Sequence\n",
        "\n",
        "def generate_sequence(states, days):\n",
        "\n",
        "  # Base case\n",
        "  if days == 1:\n",
        "    return [[state] for state in states]\n",
        "\n",
        "    # Recursive case: length 'days - 1'\n",
        "    smaller_sequences = generate_sequence(states, days - 1)\n",
        "    Sequences = []\n",
        "\n",
        "    # State append\n",
        "    for seq in smaller_sequences:\n",
        "      for state in states:\n",
        "        Sequences.append(seq + [state])\n",
        "\n",
        "    return Sequences"
      ],
      "metadata": {
        "id": "AmJCLj60UYdW"
      },
      "execution_count": 9,
      "outputs": []
    },
    {
      "cell_type": "code",
      "source": [
        "# @title Exhaustive Search Algorithm\n",
        "\n",
        "def exhaustive_search(days = 10):\n",
        "\n",
        "  # Generate all possible sequence\n",
        "  all_sequences = generate_sequence(states, days)\n",
        "\n",
        "  # Probability calculation for each sequences\n",
        "  probabilites = {tuple(seq): calculate_probability(seq) for seq in all_sequences}\n",
        "\n",
        "  # Sequence with highest probability\n",
        "  most_probable_sequence = max(probabilites, key = probabilites.get)\n",
        "\n",
        "  return most_probable_sequence, probabilites[most_probable_sequence]"
      ],
      "metadata": {
        "id": "Zb7QpPA0Qa0L"
      },
      "execution_count": 15,
      "outputs": []
    },
    {
      "cell_type": "code",
      "source": [
        "# @title Task 2: Simulate Health Status for 10 Days\n",
        "\n",
        "sequence_10_days = simulate_health_status('Healthy', 10)\n",
        "print(\"Sequence of states after 10 days:\", sequence_10_days)"
      ],
      "metadata": {
        "colab": {
          "base_uri": "https://localhost:8080/"
        },
        "id": "hl06_VXpQvKp",
        "outputId": "e2791f3f-5cf4-440d-abfd-3b61e092e197"
      },
      "execution_count": 11,
      "outputs": [
        {
          "output_type": "stream",
          "name": "stdout",
          "text": [
            "Sequence of states after 10 days: ['Healthy', 'Healthy', 'Healthy', 'Mild Symptoms', 'Mild Symptoms', 'Severe Symptoms', 'Mild Symptoms', 'Mild Symptoms', 'Mild Symptoms', 'Severe Symptoms']\n"
          ]
        }
      ]
    },
    {
      "cell_type": "code",
      "source": [
        "# @title Task 3: Probability of the specific sequences\n",
        "\n",
        "specific_sequences = [ 'Healthy', 'Mild Symptoms', 'Severe Symptoms', 'Healthy', 'Mild Symptoms']\n",
        "specific_sequence_probability = calculate_probability(specific_sequences)\n",
        "print(f\"Probability of the specific sequence {specific_sequences} : {specific_sequence_probability}\")"
      ],
      "metadata": {
        "colab": {
          "base_uri": "https://localhost:8080/"
        },
        "id": "749dgQAkZumA",
        "outputId": "118478a6-4b54-4cd0-fe8d-e41682e3cb40"
      },
      "execution_count": 12,
      "outputs": [
        {
          "output_type": "stream",
          "name": "stdout",
          "text": [
            "Probability of the specific sequence ['Healthy', 'Mild Symptoms', 'Severe Symptoms', 'Healthy', 'Mild Symptoms'] : 0.0024000000000000002\n"
          ]
        }
      ]
    },
    {
      "cell_type": "code",
      "source": [
        "# @title Task 4: Exhaustive search for the most likely sequence\n",
        "\n",
        "most_probable_sequence, probability = exhaustive_search(10)\n",
        "print(f\"Most probable sequence: {most_probable_sequence}\")\n",
        "print(f\"Probability of the most probable sequence: {probability}\")"
      ],
      "metadata": {
        "colab": {
          "base_uri": "https://localhost:8080/",
          "height": 332
        },
        "id": "GCG3qaNSbBTw",
        "outputId": "a9d09bf7-967e-4717-9552-5ac6b250a405"
      },
      "execution_count": 16,
      "outputs": [
        {
          "output_type": "error",
          "ename": "TypeError",
          "evalue": "'NoneType' object is not iterable",
          "traceback": [
            "\u001b[0;31m---------------------------------------------------------------------------\u001b[0m",
            "\u001b[0;31mTypeError\u001b[0m                                 Traceback (most recent call last)",
            "\u001b[0;32m<ipython-input-16-be300a98d939>\u001b[0m in \u001b[0;36m<cell line: 3>\u001b[0;34m()\u001b[0m\n\u001b[1;32m      1\u001b[0m \u001b[0;31m# @title Task 4: Exhaustive search for the most likely sequence\u001b[0m\u001b[0;34m\u001b[0m\u001b[0;34m\u001b[0m\u001b[0m\n\u001b[1;32m      2\u001b[0m \u001b[0;34m\u001b[0m\u001b[0m\n\u001b[0;32m----> 3\u001b[0;31m \u001b[0mmost_probable_sequence\u001b[0m\u001b[0;34m,\u001b[0m \u001b[0mprobability\u001b[0m \u001b[0;34m=\u001b[0m \u001b[0mexhaustive_search\u001b[0m\u001b[0;34m(\u001b[0m\u001b[0;36m10\u001b[0m\u001b[0;34m)\u001b[0m\u001b[0;34m\u001b[0m\u001b[0;34m\u001b[0m\u001b[0m\n\u001b[0m\u001b[1;32m      4\u001b[0m \u001b[0mprint\u001b[0m\u001b[0;34m(\u001b[0m\u001b[0;34mf\"Most probable sequence: {most_probable_sequence}\"\u001b[0m\u001b[0;34m)\u001b[0m\u001b[0;34m\u001b[0m\u001b[0;34m\u001b[0m\u001b[0m\n\u001b[1;32m      5\u001b[0m \u001b[0mprint\u001b[0m\u001b[0;34m(\u001b[0m\u001b[0;34mf\"Probability of the most probable sequence: {probability}\"\u001b[0m\u001b[0;34m)\u001b[0m\u001b[0;34m\u001b[0m\u001b[0;34m\u001b[0m\u001b[0m\n",
            "\u001b[0;32m<ipython-input-15-cd015445b971>\u001b[0m in \u001b[0;36mexhaustive_search\u001b[0;34m(days)\u001b[0m\n\u001b[1;32m      7\u001b[0m \u001b[0;34m\u001b[0m\u001b[0m\n\u001b[1;32m      8\u001b[0m   \u001b[0;31m# Probability calculation for each sequences\u001b[0m\u001b[0;34m\u001b[0m\u001b[0;34m\u001b[0m\u001b[0m\n\u001b[0;32m----> 9\u001b[0;31m   \u001b[0mprobabilites\u001b[0m \u001b[0;34m=\u001b[0m \u001b[0;34m{\u001b[0m\u001b[0mtuple\u001b[0m\u001b[0;34m(\u001b[0m\u001b[0mseq\u001b[0m\u001b[0;34m)\u001b[0m\u001b[0;34m:\u001b[0m \u001b[0mcalculate_probability\u001b[0m\u001b[0;34m(\u001b[0m\u001b[0mseq\u001b[0m\u001b[0;34m)\u001b[0m \u001b[0;32mfor\u001b[0m \u001b[0mseq\u001b[0m \u001b[0;32min\u001b[0m \u001b[0mall_sequences\u001b[0m\u001b[0;34m}\u001b[0m\u001b[0;34m\u001b[0m\u001b[0;34m\u001b[0m\u001b[0m\n\u001b[0m\u001b[1;32m     10\u001b[0m \u001b[0;34m\u001b[0m\u001b[0m\n\u001b[1;32m     11\u001b[0m   \u001b[0;31m# Sequence with highest probability\u001b[0m\u001b[0;34m\u001b[0m\u001b[0;34m\u001b[0m\u001b[0m\n",
            "\u001b[0;31mTypeError\u001b[0m: 'NoneType' object is not iterable"
          ]
        }
      ]
    },
    {
      "cell_type": "code",
      "source": [],
      "metadata": {
        "id": "cS_NH2nSbhkm"
      },
      "execution_count": null,
      "outputs": []
    }
  ]
}