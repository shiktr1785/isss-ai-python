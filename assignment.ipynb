{
  "nbformat": 4,
  "nbformat_minor": 0,
  "metadata": {
    "colab": {
      "provenance": [],
      "authorship_tag": "ABX9TyNwdTItI8uoxMSHkOtGfKUm",
      "include_colab_link": true
    },
    "kernelspec": {
      "name": "python3",
      "display_name": "Python 3"
    },
    "language_info": {
      "name": "python"
    }
  },
  "cells": [
    {
      "cell_type": "markdown",
      "metadata": {
        "id": "view-in-github",
        "colab_type": "text"
      },
      "source": [
        "<a href=\"https://colab.research.google.com/github/shiktr1785/isss-ai-python/blob/main/assignment.ipynb\" target=\"_parent\"><img src=\"https://colab.research.google.com/assets/colab-badge.svg\" alt=\"Open In Colab\"/></a>"
      ]
    },
    {
      "cell_type": "markdown",
      "source": [
        "The goal is to find a path from the starting position, located on the bottom left of the matrix ([m-1][0]),\n",
        "to the goal position on the top left ([0] [n-1]). If a valid path exists, the algorithm should print it; otherwise,\n",
        "it should return ”no path exists.”\n",
        "To solve this problem, two common path-finding algorithms are considered: Breadth-First Search\n",
        "(BFS) and Depth-First Search (DFS). Both algorithms explore the maze differently and offer different\n",
        "advantages depending on the nature of the problem. This report will outline the implementation of the\n",
        "chosen algorithm and evaluate its effectiveness in finding a valid path through the maze"
      ],
      "metadata": {
        "id": "uCqmYsXriG13"
      }
    },
    {
      "cell_type": "code",
      "source": [
        "# @title Libraries Import\n",
        "\"\"\"\n",
        "    deque (Double-Ended Queue), a class from python collections,\n",
        "    with a Time Complexity of O(1) for appending queue\n",
        "    and popping queue.\n",
        "\"\"\"\n",
        "from collections import deque"
      ],
      "metadata": {
        "id": "jba97OH_ro4v"
      },
      "execution_count": null,
      "outputs": []
    },
    {
      "cell_type": "code",
      "source": [
        "# @title Breadth-First Search Maze\n",
        "def bfs_maze(maze):\n",
        "    \"\"\"\n",
        "    Breadth First Search Algorithm for traversing through a maze.\n",
        "\n",
        "    Args:\n",
        "      Maze: a 2-dimensional matrix of order [m][n]\n",
        "\n",
        "    Returns:\n",
        "      outputs the path according to the initial position and the goal position\n",
        "      in this case, the initial position is the bottom-left corner of the matrix\n",
        "      and the goal position is in the top-right corner of the matrix.\n",
        "      If no path exists, it returns \"No path exists\"\n",
        "\n",
        "    \"\"\"\n",
        "    #assigning the dimension of the 2-D matrix into rows and columns\n",
        "    rows, cols = len(maze), len(maze[0])\n",
        "\n",
        "    #varialbe for initial position according to the problem statement (bottom-left of the matrix)\n",
        "    start = (rows - 1, 0)\n",
        "\n",
        "    #varialbe for goal position according to the problem statement (top-right of the matrix)\n",
        "    goal = (0, cols - 1)\n",
        "\n",
        "    #Check if the initial position or goal position contains wall (1) in the maze\n",
        "    if maze[start[0]][start[1]] == 1 or maze[goal[0]][goal[1]] == 1:\n",
        "        return \"No path exists\"\n",
        "\n",
        "    #direction list (up, down, left, right)\n",
        "    directions = [(-1, 0), (1, 0), (0, -1), (0, 1)]\n",
        "\n",
        "    #initilizing the queue using the deque function (double-ended queue)\n",
        "    queue = deque([(start, [start])])\n",
        "\n",
        "    #variable for explored nodes in set() colletion which reduces the chances of duplicte element\n",
        "    visited = set([start])\n",
        "\n",
        "    #checking if the queue is empty or not\n",
        "    while queue:\n",
        "\n",
        "        #popping the first element out of the queue and assigning it to the variable\n",
        "        (x, y), path = queue.popleft()\n",
        "\n",
        "        #checking if the element matches the goal, if yes return the path to the element\n",
        "        if (x, y) == goal:\n",
        "            return path\n",
        "\n",
        "        #loop to iterate the direction over the current pooped element\n",
        "        for dx, dy in directions:\n",
        "\n",
        "            #Assigning the new coordinates after iterating through the directions.\n",
        "            nx, ny = x + dx, y + dy\n",
        "\n",
        "            #Checking whether the new coordinate is in the visited set or not.\n",
        "            if 0 <= nx < rows and 0 <= ny < cols and maze[nx][ny] == 0 and (nx, ny) not in visited:\n",
        "\n",
        "                #adding new coordinate in the visited set\n",
        "                visited.add((nx, ny))\n",
        "\n",
        "                #adding new coordinate in the queue\n",
        "                queue.append(((nx, ny), path + [(nx, ny)]))\n",
        "\n",
        "    #if the queue is empty, return no-path exists\n",
        "    return \"No path exists\""
      ],
      "metadata": {
        "id": "ClKF0aJVtocV"
      },
      "execution_count": null,
      "outputs": []
    },
    {
      "cell_type": "code",
      "source": [
        "# @title Test Matrix in List Form\n",
        "\"\"\"\n",
        "    Test Case matrix in list form with the expected path as given in assignment\n",
        "    data, the test matrix and the expected path are arranged as two elements in a tuple.\n",
        "    This touple is will be passed to the bfs_maze function to test the algorithm,\n",
        "    and obtain the path to the goal position.\n",
        "\"\"\"\n",
        "\n",
        "test_cases = [\n",
        "    (\n",
        "        [\n",
        "            [1, 0, 0],\n",
        "            [1, 1, 0],\n",
        "            [0, 0, 0]\n",
        "        ],\n",
        "        [(0, 0), (1, 0), (2, 0), (2, 1), (2, 2)]\n",
        "    ),\n",
        "    (\n",
        "        [\n",
        "            [0, 0, 0],\n",
        "            [1, 1, 1],\n",
        "            [0, 0, 0]\n",
        "        ],\n",
        "        \"No path exists\"\n",
        "    ),\n",
        "    (\n",
        "        [\n",
        "            [0, 0, 0, 0, 0],\n",
        "            [1, 1, 0, 1, 0],\n",
        "            [0, 0, 0, 0, 0],\n",
        "            [0, 1, 1, 1, 0],\n",
        "            [0, 0, 0, 1, 0]\n",
        "        ],\n",
        "        [(0, 0), (0, 1), (0, 2), (0, 3), (0, 4), (1, 4), (2, 4), (3, 4), (4, 4)]\n",
        "    )\n",
        "]"
      ],
      "metadata": {
        "id": "YSLil-hCttoe"
      },
      "execution_count": null,
      "outputs": []
    },
    {
      "cell_type": "code",
      "source": [
        "# @title Program Script\n",
        "\"\"\"\n",
        "    for loop to iterate the test matrix and the expected path,\n",
        "    and obtain the path to the goal position.\n",
        "    The result variable is used here to store the path to the goal position,\n",
        "    which will be obtained as the output of the bfs_maze function.\n",
        "\"\"\"\n",
        "for i, (maze, expected) in enumerate(test_cases):\n",
        "    result = bfs_maze(maze)\n",
        "    print(f\"Test Case {i+1}:\")\n",
        "    print(f\"  Expected: {expected}\")\n",
        "    print(f\"  Result:   {result}\")\n",
        "    print()"
      ],
      "metadata": {
        "colab": {
          "base_uri": "https://localhost:8080/"
        },
        "id": "0tgiw5PctyLG",
        "outputId": "e6bece0e-baf5-4399-a172-1da6ab6969e8"
      },
      "execution_count": null,
      "outputs": [
        {
          "output_type": "stream",
          "name": "stdout",
          "text": [
            "Test Case 1:\n",
            "  Expected: [(0, 0), (1, 0), (2, 0), (2, 1), (2, 2)]\n",
            "  Result:   [(2, 0), (2, 1), (2, 2), (1, 2), (0, 2)]\n",
            "\n",
            "Test Case 2:\n",
            "  Expected: No path exists\n",
            "  Result:   No path exists\n",
            "\n",
            "Test Case 3:\n",
            "  Expected: [(0, 0), (0, 1), (0, 2), (0, 3), (0, 4), (1, 4), (2, 4), (3, 4), (4, 4)]\n",
            "  Result:   [(4, 0), (3, 0), (2, 0), (2, 1), (2, 2), (1, 2), (0, 2), (0, 3), (0, 4)]\n",
            "\n"
          ]
        }
      ]
    },
    {
      "cell_type": "code",
      "source": [],
      "metadata": {
        "id": "UaONeuQPvdc-"
      },
      "execution_count": null,
      "outputs": []
    }
  ]
}