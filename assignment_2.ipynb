{
  "nbformat": 4,
  "nbformat_minor": 0,
  "metadata": {
    "colab": {
      "provenance": [],
      "toc_visible": true,
      "authorship_tag": "ABX9TyMmNsUNvJotu7xBE63mwI/1",
      "include_colab_link": true
    },
    "kernelspec": {
      "name": "python3",
      "display_name": "Python 3"
    },
    "language_info": {
      "name": "python"
    }
  },
  "cells": [
    {
      "cell_type": "markdown",
      "metadata": {
        "id": "view-in-github",
        "colab_type": "text"
      },
      "source": [
        "<a href=\"https://colab.research.google.com/github/shiktr1785/isss-ai-python/blob/main/assignment_2.ipynb\" target=\"_parent\"><img src=\"https://colab.research.google.com/assets/colab-badge.svg\" alt=\"Open In Colab\"/></a>"
      ]
    },
    {
      "cell_type": "markdown",
      "source": [
        "# Assignment 2: Logical Rules for Smart Home Automation\n",
        "### Shikhar Mani Tripathi\n",
        "\n",
        "The objective of this assignment is to create a knowledge base using Python based on the facts and logical rules provided in the problem statement. The functions are implemented based on the queries, and the knowledge base is used to determine whether the appliances or systems should be active in specific conditions.\n",
        "\n",
        "The smart home system automatically controls appliances based on conditions such as weather, occupancy, and time of day defined in the knowledge base. These appliances include lights, heating, and a security system.\n",
        "\n",
        "Based on the problem statement, the logical queries need to be implemented as a boolean expression utilizing **and, or, not** operators.\n",
        "\n",
        "\n",
        "\n",
        "> **Note**: In this program, the functions related to task 5 are defined before task 4 is executed. Since the functions in task 5 focus on energy saving, they must be initialized first so they can be executed under all potential conditions outlined in the knowledge base for task 4.\n"
      ],
      "metadata": {
        "id": "YsNwLmdGucPW"
      }
    },
    {
      "cell_type": "code",
      "source": [
        "# @title Task 1: Define Symbol\n",
        "\"\"\"\n",
        "  Initilizing the program wiht the basic facts as Boolean variables.\n",
        "  These facts representing state of the smart home system will be utilized as logical\n",
        "\"\"\"\n",
        "\n",
        "is_daytime = True             # It is daytime\n",
        "is_raining = False            # It is not raining\n",
        "someone_home = True           # Someone is at home\n",
        "temperture_below_20 = True    # Temperature is below 20 degrees Celsius\n",
        "motion_detected = False       # No motion detected outside the house"
      ],
      "metadata": {
        "id": "jIVNr2PWvRVH"
      },
      "execution_count": 1,
      "outputs": []
    },
    {
      "cell_type": "code",
      "source": [
        "# @title Task 2: Logical Rules as Functions\n",
        "\"\"\"\n",
        "  Logical rules as Python Function which will model the behavior\n",
        "  of the Smart Hme System.\n",
        "\"\"\"\n",
        "\n",
        "# Detetimine if the living room light should be on or off\n",
        "def living_room_light(is_daytime, is_raining, someone_home):\n",
        "  if is_daytime and someone_home:\n",
        "    return False            # Lights off during the day if someone is home\n",
        "  return True               # Otherwise, lights on"
      ],
      "metadata": {
        "id": "4speoGgajPDY"
      },
      "execution_count": 2,
      "outputs": []
    },
    {
      "cell_type": "code",
      "source": [
        "# Determine the state of heating system\n",
        "def heating_system(temperture_below_20, someone_home):\n",
        "  if temperture_below_20 and someone_home:\n",
        "    return True             # Heating on if the temperature is below 20 degrees and someone is home\n",
        "  return False              # Otherwise, heating on"
      ],
      "metadata": {
        "id": "HbHmMRJNyw9O"
      },
      "execution_count": 3,
      "outputs": []
    },
    {
      "cell_type": "code",
      "source": [
        "# Determine the state of security alarm\n",
        "def security_alarm(someone_home, motion_detected):\n",
        "  if not someone_home and motion_detected:\n",
        "    return True             # Alarm on if no one is home and motion detected\n",
        "  return False              # Otherwise, alarm off"
      ],
      "metadata": {
        "id": "Cythb75tz2Vm"
      },
      "execution_count": 4,
      "outputs": []
    },
    {
      "cell_type": "code",
      "source": [
        "# Determine the state of garden sprinkler\n",
        "def garden_sprinklers(is_daytime, is_raining):\n",
        "    if is_daytime and not is_raining:\n",
        "        return True         # Garden sprikler on if day time and not rainy day\n",
        "    return False            # Otherwise, sprinkler off"
      ],
      "metadata": {
        "id": "1qNjjEHA0oSa"
      },
      "execution_count": 5,
      "outputs": []
    },
    {
      "cell_type": "code",
      "source": [
        "# Determine the state of indoor lighting system\n",
        "def turn_on_outdoor_lights(is_daytime, motion_detected):\n",
        "  if not is_daytime or motion_detected:\n",
        "    return True             # Outdoor lights on in night and motion detected outside house\n",
        "  return False              # Otherwise, outdoor lights off"
      ],
      "metadata": {
        "id": "04PxgdNf1KyC"
      },
      "execution_count": 6,
      "outputs": []
    },
    {
      "cell_type": "code",
      "source": [
        "# @title Task 3: Query Evaluation\n",
        "\"\"\"\n",
        "  Finction to evaluate the state of all the system defined above\n",
        "  and print the state of each system\n",
        "\"\"\"\n",
        "\n",
        "def evaluate_home_systems():\n",
        "  #evaluate the current state of syetem based on the facts\n",
        "  heating = heating_system(temperture_below_20, someone_home)\n",
        "  alarm = security_alarm(someone_home, motion_detected)\n",
        "  sprinklers = garden_sprinklers(is_daytime, is_raining)\n",
        "  outdoor_lights = turn_on_outdoor_lights(is_daytime, motion_detected)\n",
        "\n",
        "  #Printing the state of system\n",
        "  print (\"Smart Home System Status\")\n",
        "  print (f\"Heating System: {'On' if heating else 'off'}\")\n",
        "  print (f\"Security Alarm: {'Activated' if alarm else 'Deactivated'}\")\n",
        "  print (f\"Garden Sprinklers: {'On' if sprinklers else 'off'}\")\n",
        "  print (f\"Outdoor Lights: {'On' if outdoor_lights else 'off'}\")"
      ],
      "metadata": {
        "id": "Cz46q8wa44jD"
      },
      "execution_count": 7,
      "outputs": []
    },
    {
      "cell_type": "code",
      "source": [
        "# @title Output: System State on Base Facts\n",
        "print (\"Base Facts\")\n",
        "evaluate_home_systems()"
      ],
      "metadata": {
        "colab": {
          "base_uri": "https://localhost:8080/"
        },
        "id": "R_tDmZwQBJ1a",
        "outputId": "16c18ac2-ddd1-4190-e7f2-fc71f4ce6c8d"
      },
      "execution_count": 8,
      "outputs": [
        {
          "output_type": "stream",
          "name": "stdout",
          "text": [
            "Base Facts\n",
            "Smart Home System Status\n",
            "Heating System: On\n",
            "Security Alarm: Deactivated\n",
            "Garden Sprinklers: On\n",
            "Outdoor Lights: off\n"
          ]
        }
      ]
    },
    {
      "cell_type": "markdown",
      "source": [
        "## Task 5: Deduction & Explanation\n",
        "\n",
        "Implement a function which determines whether the Smart Home System is in **energy-saving mode**"
      ],
      "metadata": {
        "id": "V5kukY3i0c_1"
      }
    },
    {
      "cell_type": "code",
      "source": [
        "# energy saving mode function\n",
        "\n",
        "def energy_saving_mode (heating, outdoor_lights, sprinklers):\n",
        "  # Checks if the house is in energy saving mode\n",
        "  return not heating and not outdoor_lights and not sprinklers"
      ],
      "metadata": {
        "id": "-RYr64Jq32rf"
      },
      "execution_count": 9,
      "outputs": []
    },
    {
      "cell_type": "code",
      "source": [
        "# evaluate energy saving status of the home system\n",
        "\n",
        "def evaluate_energy_saving():\n",
        "  heating = heating_system(temperture_below_20, someone_home)\n",
        "  outdoor_lights = turn_on_outdoor_lights(is_daytime, someone_home)\n",
        "  sprinklers = garden_sprinklers(is_raining, is_daytime)\n",
        "  return energy_saving_mode(heating, outdoor_lights, sprinklers)"
      ],
      "metadata": {
        "id": "Dq-9IjNj5sXR"
      },
      "execution_count": 10,
      "outputs": []
    },
    {
      "cell_type": "code",
      "source": [
        "# Counts the number of active system and returns a summary\n",
        "\n",
        "def count_active_systems():\n",
        "  heating = heating_system(temperture_below_20, someone_home)\n",
        "  alarm = security_alarm(someone_home, motion_detected)\n",
        "  sprinklers = garden_sprinklers(is_raining, is_daytime)\n",
        "  outdoor_lights = turn_on_outdoor_lights(is_daytime, motion_detected)\n",
        "\n",
        "  # Prepare a summary of system states\n",
        "  summary = {\n",
        "      'Heating System': 'On' if heating else 'Off',\n",
        "      'Security Alarm': 'Activated' if alarm else 'Deactivated',\n",
        "      'Garden Sprinklers': 'On' if sprinklers else 'Off',\n",
        "      'Outdoor Lights': 'On' if outdoor_lights else 'Off'\n",
        "  }\n",
        "\n",
        "  active_count = sum([heating, alarm, sprinklers, outdoor_lights])\n",
        "  return active_count, summary"
      ],
      "metadata": {
        "id": "Nbnpelx-l-E_"
      },
      "execution_count": 11,
      "outputs": []
    },
    {
      "cell_type": "code",
      "source": [
        "# @title Evaluate Active Systems\n",
        "\n",
        "active_count, system_summary = count_active_systems()\n",
        "print (f\"Number of active systems: {active_count}\")\n",
        "print(\"System Summary:\")\n",
        "for system, status in system_summary.items():\n",
        "    print(f\"{system}: {status}\")"
      ],
      "metadata": {
        "colab": {
          "base_uri": "https://localhost:8080/"
        },
        "id": "YdMUYNxtnNyD",
        "outputId": "6ade4828-64ac-4281-fbf5-ff4c97793ba9"
      },
      "execution_count": 12,
      "outputs": [
        {
          "output_type": "stream",
          "name": "stdout",
          "text": [
            "Number of active systems: 1\n",
            "System Summary:\n",
            "Heating System: On\n",
            "Security Alarm: Deactivated\n",
            "Garden Sprinklers: Off\n",
            "Outdoor Lights: Off\n"
          ]
        }
      ]
    },
    {
      "cell_type": "markdown",
      "source": [
        "## Task 4: Smart Home System Test with Different Facts"
      ],
      "metadata": {
        "id": "ABbjmylmyenh"
      }
    },
    {
      "cell_type": "code",
      "source": [
        "\n",
        "# @title Example 1: Evening Scenario\n",
        "\n",
        "is_daytime = False            # It is night time\n",
        "someone_home = False          # No one is at home\n",
        "temperture_below_20 = True    # Temperature is below 20 degrees Celsius\n",
        "is_raining = False            # It is not raining\n",
        "motion_detected = False       # No motion detected outside the house"
      ],
      "metadata": {
        "id": "pj_syLxXj_Be"
      },
      "execution_count": 13,
      "outputs": []
    },
    {
      "cell_type": "markdown",
      "source": [
        "## Expectation based on Facts\n",
        "\n",
        "Expected Output based on the new Facts according to problem statement\n",
        "*   Heating System : OFF\n",
        "*   Security Alarm : OFF\n",
        "*   Gardener Sprinkler : OFF\n",
        "*   Outdoor Lights : ON"
      ],
      "metadata": {
        "id": "PCVHg-XfvflB"
      }
    },
    {
      "cell_type": "code",
      "source": [
        "# @title Output: Evening Scenario\n",
        "\n",
        "print (\"Evening Scenario\")\n",
        "evaluate_home_systems()"
      ],
      "metadata": {
        "colab": {
          "base_uri": "https://localhost:8080/"
        },
        "id": "0gMUEniLxgTK",
        "outputId": "85a3d017-8689-47d3-c914-6e967f6e437f"
      },
      "execution_count": 14,
      "outputs": [
        {
          "output_type": "stream",
          "name": "stdout",
          "text": [
            "Evening Scenario\n",
            "Smart Home System Status\n",
            "Heating System: off\n",
            "Security Alarm: Deactivated\n",
            "Garden Sprinklers: off\n",
            "Outdoor Lights: On\n"
          ]
        }
      ]
    },
    {
      "cell_type": "code",
      "source": [
        "active_count, system_summary = count_active_systems()\n",
        "print (f\"Number of active systems: {active_count}\\n\")\n",
        "print(\"System Summary:\")\n",
        "for system, status in system_summary.items():\n",
        "    print(f\"{system}: {status}\")"
      ],
      "metadata": {
        "colab": {
          "base_uri": "https://localhost:8080/"
        },
        "id": "VlTmChLRwUdi",
        "outputId": "408c5a84-a54d-4fd4-a1a1-5615a1fe5250"
      },
      "execution_count": 15,
      "outputs": [
        {
          "output_type": "stream",
          "name": "stdout",
          "text": [
            "Number of active systems: 1\n",
            "\n",
            "System Summary:\n",
            "Heating System: Off\n",
            "Security Alarm: Deactivated\n",
            "Garden Sprinklers: Off\n",
            "Outdoor Lights: On\n"
          ]
        }
      ]
    },
    {
      "cell_type": "code",
      "source": [
        "# @title Example 2: Daytime Scenario\n",
        "\n",
        "is_daytime = True               # It is night time\n",
        "someone_home = True             # No one is at home\n",
        "temperture_below_20 = False     # Temperature is below 20 degrees Celsius\n",
        "is_raining = True               # It is not raining\n",
        "motion_detected = False         # No motion detected outside the house"
      ],
      "metadata": {
        "id": "dmyqhemOx4xq"
      },
      "execution_count": 16,
      "outputs": []
    },
    {
      "cell_type": "markdown",
      "source": [
        "## Expectation based on Facts\n",
        "\n",
        "Expected Output based on the new Facts according to problem statement\n",
        "*   Heating System : OFF\n",
        "*   Security Alarm : OFF\n",
        "*   Gardener Sprinkler : OFF\n",
        "*   Outdoor Lights : OFF\n"
      ],
      "metadata": {
        "id": "eH3eoGCE1Nu2"
      }
    },
    {
      "cell_type": "code",
      "source": [
        "# @title Output: Daytime Scenario\n",
        "\n",
        "print (\"Daytime Scenario\")\n",
        "evaluate_home_systems()"
      ],
      "metadata": {
        "colab": {
          "base_uri": "https://localhost:8080/"
        },
        "id": "_jpPeKyE0W_9",
        "outputId": "497c3e74-eccf-4a19-a409-f34916ccee57"
      },
      "execution_count": 17,
      "outputs": [
        {
          "output_type": "stream",
          "name": "stdout",
          "text": [
            "Daytime Scenario\n",
            "Smart Home System Status\n",
            "Heating System: off\n",
            "Security Alarm: Deactivated\n",
            "Garden Sprinklers: off\n",
            "Outdoor Lights: off\n"
          ]
        }
      ]
    },
    {
      "cell_type": "code",
      "source": [
        "active_count, system_summary = count_active_systems()\n",
        "print (f\"Number of active systems: {active_count}\\n\")\n",
        "print(\"System Summary:\")\n",
        "for system, status in system_summary.items():\n",
        "    print(f\"{system}: {status}\")"
      ],
      "metadata": {
        "colab": {
          "base_uri": "https://localhost:8080/"
        },
        "id": "EdCyjVsQxYP5",
        "outputId": "a9a0b3f1-5313-476e-b888-4d2fc121b838"
      },
      "execution_count": 18,
      "outputs": [
        {
          "output_type": "stream",
          "name": "stdout",
          "text": [
            "Number of active systems: 0\n",
            "\n",
            "System Summary:\n",
            "Heating System: Off\n",
            "Security Alarm: Deactivated\n",
            "Garden Sprinklers: Off\n",
            "Outdoor Lights: Off\n"
          ]
        }
      ]
    }
  ]
}