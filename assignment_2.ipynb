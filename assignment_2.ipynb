{
  "nbformat": 4,
  "nbformat_minor": 0,
  "metadata": {
    "colab": {
      "provenance": [],
      "toc_visible": true,
      "authorship_tag": "ABX9TyME7UCLSRJ/Mp+SzinRTvP/",
      "include_colab_link": true
    },
    "kernelspec": {
      "name": "python3",
      "display_name": "Python 3"
    },
    "language_info": {
      "name": "python"
    }
  },
  "cells": [
    {
      "cell_type": "markdown",
      "metadata": {
        "id": "view-in-github",
        "colab_type": "text"
      },
      "source": [
        "<a href=\"https://colab.research.google.com/github/shiktr1785/isss-ai-python/blob/main/assignment_2.ipynb\" target=\"_parent\"><img src=\"https://colab.research.google.com/assets/colab-badge.svg\" alt=\"Open In Colab\"/></a>"
      ]
    },
    {
      "cell_type": "markdown",
      "source": [
        "# Assignment 2: Logical Rules for Smart Home Automation\n",
        "### Shikhar Mani Tripathi\n",
        "\n",
        "The objective of this assignment is to create a knowledge base using Python based on the facts and logical rules provided in the problem statement. The functions are implemented based on the queries, and the knowledge base is used to determine whether the appliances or systems should be active in specific conditions.\n",
        "\n",
        "The smart home system automatically controls appliances based on conditions such as weather, occupancy, and time of day defined in the knowledge base. These appliances include lights, heating, and a security system.\n",
        "\n",
        "Based on the problem statement, the logical queries need to be implemented as a boolean expression utilizing **and, or, not** operators."
      ],
      "metadata": {
        "id": "YsNwLmdGucPW"
      }
    },
    {
      "cell_type": "code",
      "source": [
        "# @title Define Symbol\n",
        "\"\"\"\n",
        "  Initilizing the program wiht the basic facts as Boolean variables.\n",
        "  These facts representing state of the smart home system will be utilized as logical\n",
        "\"\"\"\n",
        "\n",
        "is_daytime = True             # It is daytime\n",
        "is_raining = False            # It is not raining\n",
        "someone_home = True           # Someone is at home\n",
        "temperture_below_20 = True    # Temperature is below 20 degrees Celsius\n",
        "motion_detected = False       # No motion detected outside the house"
      ],
      "metadata": {
        "id": "jIVNr2PWvRVH"
      },
      "execution_count": 1,
      "outputs": []
    },
    {
      "cell_type": "code",
      "source": [
        "# @title Logical Rules as Functions\n",
        "\"\"\"\n",
        "  Logical rules as Python Function which will model the behavior\n",
        "  of the Smart Hme System.\n",
        "\"\"\"\n",
        "\n",
        "# Detetimine if the living room light should be on or off\n",
        "def living_room_light(is_daytime, is_raining, someone_home):\n",
        "  if is_daytime and someone_home:\n",
        "    return False            # Lights off during the day if someone is home\n",
        "  return True               # Otherwise, lights on"
      ],
      "metadata": {
        "id": "4speoGgajPDY"
      },
      "execution_count": 2,
      "outputs": []
    },
    {
      "cell_type": "code",
      "source": [
        "# Determine the state of heating system\n",
        "def heating_system(temperture_below_20, someone_home):\n",
        "  if temperture_below_20 and someone_home:\n",
        "    return True             # Heating on if the temperature is below 20 degrees and someone is home\n",
        "  return False              # Otherwise, heating on"
      ],
      "metadata": {
        "id": "HbHmMRJNyw9O"
      },
      "execution_count": 3,
      "outputs": []
    },
    {
      "cell_type": "code",
      "source": [
        "# Determine the state of security alarm\n",
        "def security_alarm(someone_home, motion_detected):\n",
        "  if not someone_home and motion_detected:\n",
        "    return True             # Alarm on if no one is home and motion detected\n",
        "  return False              # Otherwise, alarm off"
      ],
      "metadata": {
        "id": "Cythb75tz2Vm"
      },
      "execution_count": 4,
      "outputs": []
    },
    {
      "cell_type": "code",
      "source": [
        "# Determine the state of garden sprinkler\n",
        "def garden_sprinklers(is_daytime, is_raining):\n",
        "    if is_daytime and not is_raining:\n",
        "        return True         # Garden sprikler on if day time and not rainy day\n",
        "    return False            # Otherwise, sprinkler off"
      ],
      "metadata": {
        "id": "1qNjjEHA0oSa"
      },
      "execution_count": 5,
      "outputs": []
    },
    {
      "cell_type": "code",
      "source": [],
      "metadata": {
        "id": "04PxgdNf1KyC"
      },
      "execution_count": null,
      "outputs": []
    }
  ]
}