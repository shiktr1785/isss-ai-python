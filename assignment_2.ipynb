{
  "nbformat": 4,
  "nbformat_minor": 0,
  "metadata": {
    "colab": {
      "provenance": [],
      "toc_visible": true,
      "authorship_tag": "ABX9TyNukyERdnSOykNX7V0gg8Go",
      "include_colab_link": true
    },
    "kernelspec": {
      "name": "python3",
      "display_name": "Python 3"
    },
    "language_info": {
      "name": "python"
    }
  },
  "cells": [
    {
      "cell_type": "markdown",
      "metadata": {
        "id": "view-in-github",
        "colab_type": "text"
      },
      "source": [
        "<a href=\"https://colab.research.google.com/github/shiktr1785/isss-ai-python/blob/main/assignment_2.ipynb\" target=\"_parent\"><img src=\"https://colab.research.google.com/assets/colab-badge.svg\" alt=\"Open In Colab\"/></a>"
      ]
    },
    {
      "cell_type": "markdown",
      "source": [
        "# Assignment 2: Logical Rules for Smart Home Automation\n",
        "### Shikhar Mani Tripathi\n",
        "\n",
        "The objective of this assignment is to create a knowledge base using Python based on the facts and logical rules provided in the problem statement. The functions are implemented based on the queries, and the knowledge base is used to determine whether the appliances or systems should be active in specific conditions.\n",
        "\n",
        "The smart home system automatically controls appliances based on conditions such as weather, occupancy, and time of day defined in the knowledge base. These appliances include lights, heating, and a security system.\n",
        "\n",
        "Based on the problem statement, the logical queries need to be implemented as a boolean expression utilizing **and, or, not** operators."
      ],
      "metadata": {
        "id": "YsNwLmdGucPW"
      }
    },
    {
      "cell_type": "code",
      "source": [
        "# @title Task 1: Define Symbol\n",
        "\"\"\"\n",
        "  Initilizing the program wiht the basic facts as Boolean variables.\n",
        "  These facts representing state of the smart home system will be utilized as logical\n",
        "\"\"\"\n",
        "\n",
        "is_daytime = True             # It is daytime\n",
        "is_raining = False            # It is not raining\n",
        "someone_home = True           # Someone is at home\n",
        "temperture_below_20 = True    # Temperature is below 20 degrees Celsius\n",
        "motion_detected = False       # No motion detected outside the house"
      ],
      "metadata": {
        "id": "jIVNr2PWvRVH"
      },
      "execution_count": 16,
      "outputs": []
    },
    {
      "cell_type": "code",
      "source": [
        "# @title Task 2: Logical Rules as Functions\n",
        "\"\"\"\n",
        "  Logical rules as Python Function which will model the behavior\n",
        "  of the Smart Hme System.\n",
        "\"\"\"\n",
        "\n",
        "# Detetimine if the living room light should be on or off\n",
        "def living_room_light(is_daytime, is_raining, someone_home):\n",
        "  if is_daytime and someone_home:\n",
        "    return False            # Lights off during the day if someone is home\n",
        "  return True               # Otherwise, lights on"
      ],
      "metadata": {
        "id": "4speoGgajPDY"
      },
      "execution_count": 17,
      "outputs": []
    },
    {
      "cell_type": "code",
      "source": [
        "# Determine the state of heating system\n",
        "def heating_system(temperture_below_20, someone_home):\n",
        "  if temperture_below_20 and someone_home:\n",
        "    return True             # Heating on if the temperature is below 20 degrees and someone is home\n",
        "  return False              # Otherwise, heating on"
      ],
      "metadata": {
        "id": "HbHmMRJNyw9O"
      },
      "execution_count": 18,
      "outputs": []
    },
    {
      "cell_type": "code",
      "source": [
        "# Determine the state of security alarm\n",
        "def security_alarm(someone_home, motion_detected):\n",
        "  if not someone_home and motion_detected:\n",
        "    return True             # Alarm on if no one is home and motion detected\n",
        "  return False              # Otherwise, alarm off"
      ],
      "metadata": {
        "id": "Cythb75tz2Vm"
      },
      "execution_count": 19,
      "outputs": []
    },
    {
      "cell_type": "code",
      "source": [
        "# Determine the state of garden sprinkler\n",
        "def garden_sprinklers(is_daytime, is_raining):\n",
        "    if is_daytime and not is_raining:\n",
        "        return True         # Garden sprikler on if day time and not rainy day\n",
        "    return False            # Otherwise, sprinkler off"
      ],
      "metadata": {
        "id": "1qNjjEHA0oSa"
      },
      "execution_count": 20,
      "outputs": []
    },
    {
      "cell_type": "code",
      "source": [
        "# Determine the state of indoor lighting system\n",
        "def turn_on_outdoor_lights(is_daytime, motion_detected):\n",
        "  if not is_daytime or motion_detected:\n",
        "    return True             # Outdoor lights on in night and motion detected outside house\n",
        "  return False              # Otherwise, outdoor lights off"
      ],
      "metadata": {
        "id": "04PxgdNf1KyC"
      },
      "execution_count": 21,
      "outputs": []
    },
    {
      "cell_type": "code",
      "source": [
        "# @title Task 3: Query Evaluation\n",
        "\"\"\"\n",
        "  Finction to evaluate the state of all the system defined above\n",
        "  and print the state of each system\n",
        "\"\"\"\n",
        "\n",
        "def evaluate_home_systems():\n",
        "  #evaluate the current state of syetem based on the facts\n",
        "  heating = heating_system(temperture_below_20, someone_home)\n",
        "  alarm = security_alarm(someone_home, motion_detected)\n",
        "  sprinklers = garden_sprinklers(is_daytime, is_raining)\n",
        "  outdoor_lights = turn_on_outdoor_lights(is_daytime, motion_detected)\n",
        "\n",
        "  #Printing the state of system\n",
        "  print (\"Smart Home System Status\")\n",
        "  print (f\"Heating System: {'On' if heating else 'off'}\")\n",
        "  print (f\"Security Alarm: {'Activated' if alarm else 'Deactivated'}\")\n",
        "  print (f\"Garden Sprinklers: {'On' if sprinklers else 'off'}\")\n",
        "  print (f\"Outdoor Lights: {'On' if outdoor_lights else 'off'}\")"
      ],
      "metadata": {
        "id": "Cz46q8wa44jD"
      },
      "execution_count": 22,
      "outputs": []
    },
    {
      "cell_type": "code",
      "source": [
        "# @title Output: System State on Base Facts\n",
        "print (\"Base Facts\")\n",
        "evaluate_home_systems()"
      ],
      "metadata": {
        "colab": {
          "base_uri": "https://localhost:8080/"
        },
        "id": "R_tDmZwQBJ1a",
        "outputId": "7c5f5d91-a12c-4c70-b262-c1e09e4725b7"
      },
      "execution_count": 25,
      "outputs": [
        {
          "output_type": "stream",
          "name": "stdout",
          "text": [
            "Base Facts\n",
            "Smart Home System Status\n",
            "Heating System: off\n",
            "Security Alarm: Deactivated\n",
            "Garden Sprinklers: off\n",
            "Outdoor Lights: On\n"
          ]
        }
      ]
    },
    {
      "cell_type": "code",
      "source": [
        "# @title Task 4: Smart Home System Test with Different Facts\n",
        "\n",
        "# Example 1: Evening Scenario\n",
        "\n",
        "is_daytime = False            # It is night time\n",
        "someone_home = False          # No one is at home\n",
        "temperture_below_20 = True    # Temperature is below 20 degrees Celsius\n",
        "is_raining = False            # It is not raining\n",
        "motion_detected = False       # No motion detected outside the house"
      ],
      "metadata": {
        "id": "pj_syLxXj_Be"
      },
      "execution_count": 26,
      "outputs": []
    },
    {
      "cell_type": "markdown",
      "source": [
        "## Expectation based on Facts\n",
        "\n",
        "Expected Output based on the new Facts according to problem statement\n",
        "*   Heating System : OFF\n",
        "*   Security Alarm : OFF\n",
        "*   Gardener Sprinkler : OFF\n",
        "*   Outdoor Lights : ON"
      ],
      "metadata": {
        "id": "PCVHg-XfvflB"
      }
    },
    {
      "cell_type": "code",
      "source": [
        "# @title Output: Evening Scenario\n",
        "\n",
        "print (\"Evening Scenario\")\n",
        "evaluate_home_systems()"
      ],
      "metadata": {
        "colab": {
          "base_uri": "https://localhost:8080/"
        },
        "id": "0gMUEniLxgTK",
        "outputId": "4a5d944b-4e65-42fe-82c8-bee217584e62"
      },
      "execution_count": 27,
      "outputs": [
        {
          "output_type": "stream",
          "name": "stdout",
          "text": [
            "Evening Scenario\n",
            "Smart Home System Status\n",
            "Heating System: off\n",
            "Security Alarm: Deactivated\n",
            "Garden Sprinklers: off\n",
            "Outdoor Lights: On\n"
          ]
        }
      ]
    },
    {
      "cell_type": "code",
      "source": [
        "# Example 2: Daytime Scenario\n",
        "\n",
        "is_daytime = True            # It is night time\n",
        "someone_home = True          # No one is at home\n",
        "temperture_below_20 = False    # Temperature is below 20 degrees Celsius\n",
        "is_raining = True            # It is not raining\n",
        "motion_detected = False       # No motion detected outside the house"
      ],
      "metadata": {
        "id": "dmyqhemOx4xq"
      },
      "execution_count": 28,
      "outputs": []
    },
    {
      "cell_type": "markdown",
      "source": [
        "## Expectation based on Facts\n",
        "\n",
        "Expected Output based on the new Facts according to problem statement\n",
        "*   Heating System : OFF\n",
        "*   Security Alarm : OFF\n",
        "*   Gardener Sprinkler : OFF\n",
        "*   Outdoor Lights : ON"
      ],
      "metadata": {
        "id": "eH3eoGCE1Nu2"
      }
    },
    {
      "cell_type": "code",
      "source": [
        "# @title Output: Daytime Scenario\n",
        "\n",
        "print (\"Daytime Scenario\")\n",
        "evaluate_home_systems()"
      ],
      "metadata": {
        "colab": {
          "base_uri": "https://localhost:8080/"
        },
        "id": "_jpPeKyE0W_9",
        "outputId": "8c104425-8821-4a18-c863-8bd8274ce4ab"
      },
      "execution_count": 30,
      "outputs": [
        {
          "output_type": "stream",
          "name": "stdout",
          "text": [
            "Daytime Scenario\n",
            "Smart Home System Status\n",
            "Heating System: off\n",
            "Security Alarm: Deactivated\n",
            "Garden Sprinklers: off\n",
            "Outdoor Lights: off\n"
          ]
        }
      ]
    },
    {
      "cell_type": "markdown",
      "source": [
        "## Task 5: Deduction & Explanation\n",
        "\n",
        "Implement a function which determines whether the Smart Home System is in **energy-saving mode**"
      ],
      "metadata": {
        "id": "V5kukY3i0c_1"
      }
    },
    {
      "cell_type": "code",
      "source": [
        "#energy saving mode function\n",
        "\n",
        "def energy_saving_mode (heating, living_lights, sprinklers):\n",
        "  # Checks if the house is in energy saving mode\n",
        "  return not heating and not living_lights and not sprinklers"
      ],
      "metadata": {
        "id": "-RYr64Jq32rf"
      },
      "execution_count": 31,
      "outputs": []
    },
    {
      "cell_type": "code",
      "source": [],
      "metadata": {
        "id": "Dq-9IjNj5sXR"
      },
      "execution_count": null,
      "outputs": []
    }
  ]
}